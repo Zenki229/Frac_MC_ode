{
 "cells": [
  {
   "cell_type": "code",
   "execution_count": 1,
   "metadata": {
    "collapsed": true
   },
   "outputs": [],
   "source": [
    "import numpy as np\n",
    "import torch\n",
    "from torch.distributions import Beta"
   ]
  },
  {
   "cell_type": "code",
   "execution_count": null,
   "outputs": [],
   "source": [
    "sample_num = 20\n",
    "tau_dist = Beta(torch.tensor([0.5]), torch.tensor([1.0]))\n",
    "tau1 = tau_dist.sample(sample_shape=torch.tensor([sample_num]))\n",
    "print(tau1)"
   ],
   "metadata": {
    "collapsed": false
   }
  },
  {
   "cell_type": "code",
   "execution_count": 8,
   "outputs": [
    {
     "name": "stdout",
     "output_type": "stream",
     "text": [
      "tensor([[1, 2],\n",
      "        [1, 2],\n",
      "        [1, 2],\n",
      "        [1, 2],\n",
      "        [1, 2],\n",
      "        [1, 2],\n",
      "        [1, 2],\n",
      "        [1, 2],\n",
      "        [1, 2],\n",
      "        [1, 2]])\n"
     ]
    }
   ],
   "source": [
    "point = torch.tensor([1,2])\n",
    "pp = point.repeat(10,1)\n",
    "print(pp)"
   ],
   "metadata": {
    "collapsed": false
   }
  }
 ],
 "metadata": {
  "kernelspec": {
   "display_name": "Python 3",
   "language": "python",
   "name": "python3"
  },
  "language_info": {
   "codemirror_mode": {
    "name": "ipython",
    "version": 2
   },
   "file_extension": ".py",
   "mimetype": "text/x-python",
   "name": "python",
   "nbconvert_exporter": "python",
   "pygments_lexer": "ipython2",
   "version": "2.7.6"
  }
 },
 "nbformat": 4,
 "nbformat_minor": 0
}
